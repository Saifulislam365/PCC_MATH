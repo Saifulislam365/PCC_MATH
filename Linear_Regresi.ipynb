{
  "nbformat": 4,
  "nbformat_minor": 0,
  "metadata": {
    "colab": {
      "name": "Linear Regresi.ipynb",
      "private_outputs": true,
      "provenance": [],
      "collapsed_sections": [],
      "authorship_tag": "ABX9TyPSLhWsb0o72wkaNk2O4UKL",
      "include_colab_link": true
    },
    "kernelspec": {
      "name": "python3",
      "display_name": "Python 3"
    },
    "language_info": {
      "name": "python"
    }
  },
  "cells": [
    {
      "cell_type": "markdown",
      "metadata": {
        "id": "view-in-github",
        "colab_type": "text"
      },
      "source": [
        "<a href=\"https://colab.research.google.com/github/Saifulislam365/PCC_MATH/blob/main/Linear_Regresi.ipynb\" target=\"_parent\"><img src=\"https://colab.research.google.com/assets/colab-badge.svg\" alt=\"Open In Colab\"/></a>"
      ]
    },
    {
      "cell_type": "markdown",
      "metadata": {
        "id": "b41vqcHu_7Ku"
      },
      "source": [
        "http://buku.dioskurn.com/buku1/\n"
      ]
    },
    {
      "cell_type": "markdown",
      "metadata": {
        "id": "EawrvloHAM4T"
      },
      "source": [
        "# **Linear** regresi"
      ]
    },
    {
      "cell_type": "markdown",
      "metadata": {
        "id": "09Rb0uJZAuz4"
      },
      "source": [
        "Predictor (Variabe Bebas/Independent Varible \\\\\n",
        "Dependent Varible (Target )\n",
        "\n"
      ]
    },
    {
      "cell_type": "markdown",
      "metadata": {
        "id": "FA8MrhEuBRht"
      },
      "source": [
        "# **Memprediksi Nilai** "
      ]
    },
    {
      "cell_type": "markdown",
      "metadata": {
        "id": "3qdxmjDtBeYn"
      },
      "source": [
        "$y = m(x)+c$"
      ]
    },
    {
      "cell_type": "markdown",
      "metadata": {
        "id": "tGG-gesXBmO1"
      },
      "source": [
        "$m$ = slope \\\\\n",
        "$c$ = intercept (konstanta)"
      ]
    },
    {
      "cell_type": "markdown",
      "metadata": {
        "id": "mw3TNVVtB5mE"
      },
      "source": [
        "# Mempersiapkan Data "
      ]
    },
    {
      "cell_type": "code",
      "metadata": {
        "id": "Yy1R_5VZGNo8"
      },
      "source": [
        "import pandas as pd\n",
        "df1=pd.read_csv('bensin.csv')\n",
        "#df1.head()\n",
        "df1.describe()"
      ],
      "execution_count": null,
      "outputs": []
    },
    {
      "cell_type": "markdown",
      "metadata": {
        "id": "8Ioy3EWnFG4M"
      },
      "source": [
        "# Memisahkan Training data dan testing data\n",
        "\n"
      ]
    },
    {
      "cell_type": "code",
      "metadata": {
        "id": "VjBxcWW3BdYH"
      },
      "source": [
        "import pandas as pd\n",
        "import sklearn.model_selection as ms\n",
        "liter = df1[['Liter']]\n",
        "kilometer = df1[['Kilometer']]\n",
        "X_train, X_test, y_train, y_test = ms.train_test_split(liter, kilometer, test_size=0.2, random_state=0) \n",
        "#print(X_train.size, X_test.size)\n",
        "print(X_train.size, X_test.size, y_train.size, y_test.size)"
      ],
      "execution_count": null,
      "outputs": []
    },
    {
      "cell_type": "markdown",
      "metadata": {
        "id": "HTWLDYkEJOYi"
      },
      "source": [
        "# Visualisasi"
      ]
    },
    {
      "cell_type": "code",
      "metadata": {
        "id": "t2vpyp8SChy2"
      },
      "source": [
        "import pandas as pd\n",
        "import numpy as np\n",
        "import sklearn.model_selection as ms\n",
        "import matplotlib.pyplot as plt\n",
        "liter = df1[['Liter']]\n",
        "kilometer = df1[['Kilometer']]\n",
        "X_train, X_test, y_train, y_test = ms.train_test_split(liter, kilometer, test_size=0.2, random_state=0)\n",
        "plt.scatter(X_train, y_train, edgecolors='r')\n",
        "plt.xlabel('Liter')\n",
        "plt.ylabel('Kilometer')\n",
        "plt.title('Konsumsi Bahan Bakar')\n",
        "plt.show()"
      ],
      "execution_count": null,
      "outputs": []
    },
    {
      "cell_type": "markdown",
      "metadata": {
        "id": "12cQXFjVKufx"
      },
      "source": [
        "Regresi Line"
      ]
    },
    {
      "cell_type": "code",
      "metadata": {
        "id": "jckkIloUKRMN"
      },
      "source": [
        "import pandas as pd\n",
        "import numpy as np\n",
        "import sklearn.model_selection as ms\n",
        "import matplotlib.pyplot as plt\n",
        "liter = df1[['Liter']]\n",
        "kilometer = df1[['Kilometer']]\n",
        "X_train, X_test, y_train, y_test = ms.train_test_split(liter, kilometer, test_size=0.2, random_state=0)\n",
        "plt.scatter(X_train, y_train, edgecolors='r')\n",
        "plt.xlabel('Liter')\n",
        "plt.ylabel('Kilometer')\n",
        "plt.title('Konsumsi Bahan Bakar')\n",
        "x1 = np.linspace(0,45)\n",
        "y1 = 4+7*x1\n",
        "plt.plot(x1,y1)\n",
        "plt.show()"
      ],
      "execution_count": null,
      "outputs": []
    },
    {
      "cell_type": "markdown",
      "metadata": {
        "id": "kZh6Sl6yLcLk"
      },
      "source": [
        "Garis yang tidak menyentuh = residual/error"
      ]
    },
    {
      "cell_type": "code",
      "metadata": {
        "id": "hC6TnszdLPYr"
      },
      "source": [
        ""
      ],
      "execution_count": null,
      "outputs": []
    },
    {
      "cell_type": "markdown",
      "metadata": {
        "id": "DF__vjHuLW0W"
      },
      "source": [
        "# Melatih Model "
      ]
    },
    {
      "cell_type": "code",
      "metadata": {
        "id": "Nj10PKt-L7xK"
      },
      "source": [
        "import sklearn.linear_model as lm\n",
        "model1 = lm.LinearRegression()\n",
        "model1.fit(X_train,y_train)"
      ],
      "execution_count": null,
      "outputs": []
    },
    {
      "cell_type": "code",
      "metadata": {
        "id": "5QjPpzNmMNor"
      },
      "source": [
        "#model1.coef_ # slope\n",
        "model1.intercept_ # intercept\n"
      ],
      "execution_count": null,
      "outputs": []
    },
    {
      "cell_type": "markdown",
      "metadata": {
        "id": "8SfhFKKXNi41"
      },
      "source": [
        "sehingga persamaan garis lurusnya  \n",
        "\n",
        "$y = 6.458x + 10,641$\n"
      ]
    },
    {
      "cell_type": "markdown",
      "metadata": {
        "id": "thDxikqfN-09"
      },
      "source": [
        "# Visualkan dengan diagram "
      ]
    },
    {
      "cell_type": "code",
      "metadata": {
        "id": "gTGme0J8MmBN"
      },
      "source": [
        "import pandas as pd\n",
        "import numpy as np\n",
        "import sklearn.model_selection as ms\n",
        "import matplotlib.pyplot as plt\n",
        "liter = df1[['Liter']]\n",
        "kilometer = df1[['Kilometer']]\n",
        "X_train, X_test, y_train, y_test = ms.train_test_split(liter, kilometer, test_size=0.2, random_state=0)\n",
        "plt.scatter(X_train, y_train, edgecolors='r')\n",
        "plt.xlabel('Liter')\n",
        "plt.ylabel('Kilometer')\n",
        "plt.title('Konsumsi Bahan Bakar')\n",
        "x1 = np.linspace(0,45)\n",
        "y1 = 6.458 * x1 + 10.641\n",
        "plt.plot(x1,y1)\n",
        "plt.show()"
      ],
      "execution_count": null,
      "outputs": []
    },
    {
      "cell_type": "markdown",
      "metadata": {
        "id": "8xXDJ9eTOuqT"
      },
      "source": [
        "# Scoring Model"
      ]
    },
    {
      "cell_type": "code",
      "metadata": {
        "id": "PNGs-Pi4OwUi"
      },
      "source": [
        "r2 = model1.score(X_test, y_test)\n",
        "print(r2)"
      ],
      "execution_count": null,
      "outputs": []
    },
    {
      "cell_type": "markdown",
      "metadata": {
        "id": "ptAsce2AO9Qv"
      },
      "source": [
        "### Hasil test 0.9798523775622333 Mendekati angka 1 yang artinya model kita sudah cukup bagus"
      ]
    },
    {
      "cell_type": "code",
      "metadata": {
        "id": "MAAaDfGuO6Ki"
      },
      "source": [
        ""
      ],
      "execution_count": null,
      "outputs": []
    },
    {
      "cell_type": "markdown",
      "metadata": {
        "id": "sFFawuHnPcwQ"
      },
      "source": [
        "# **Penggunaan**"
      ]
    },
    {
      "cell_type": "markdown",
      "metadata": {
        "id": "vUTbhbwdPoA8"
      },
      "source": [
        "Berapa kilometer yang bisa ditempuh dengan 60 liter bensin. ?"
      ]
    },
    {
      "cell_type": "code",
      "metadata": {
        "id": "L0peiG_OPeqW"
      },
      "source": [
        "jarak=model1.predict([[60]])\n",
        "print(jarak)"
      ],
      "execution_count": null,
      "outputs": []
    },
    {
      "cell_type": "markdown",
      "metadata": {
        "id": "8LNVRQPsQBfw"
      },
      "source": [
        "Angka Prediksi dari isi test data set"
      ]
    },
    {
      "cell_type": "code",
      "metadata": {
        "id": "AzdNfQ4wP6Ta"
      },
      "source": [
        "prediksi = model1.predict(X_test)\n",
        "print(prediksi, y_test)"
      ],
      "execution_count": null,
      "outputs": []
    },
    {
      "cell_type": "markdown",
      "metadata": {
        "id": "iCRbP8IJQZ2U"
      },
      "source": [
        "## Bandingkan dengan angka kilometer yang di test data set (yang disimpan dalam varaible y_test) "
      ]
    },
    {
      "cell_type": "code",
      "metadata": {
        "id": "g7RmPAmbQZYj"
      },
      "source": [
        "print(y_test)"
      ],
      "execution_count": null,
      "outputs": []
    }
  ]
}